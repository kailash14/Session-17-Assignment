{
 "cells": [
  {
   "cell_type": "markdown",
   "metadata": {},
   "source": [
    "## Statistics 3\n",
    "#### 1. Blood glucose levels for obese patients have a mean of 100 with a standard deviation of 15. A researcher thinks that a diet high in raw cornstarch will have a positive effect on blood glucose levels. A sample of 36 patients who have tried the raw cornstarch diet have a mean glucose level of 108. Test the hypothesis that the raw cornstarch had an effect or not. "
   ]
  },
  {
   "cell_type": "markdown",
   "metadata": {},
   "source": [
    "Hypothesis = Mean population blood glucose level = 100\n",
    "Significance level = 0.05\n",
    "z score = (x - mean)/(standard deviation/sqrt(36))\n",
    "\n",
    "z= (108-100) / (15/√36)=3.20\n",
    "\n",
    "Looking at the probability by looking at z- table and p-value associated with 3.20 we get 0.9993 \n",
    "i.e. probability of having value less than 108 is 0.9993 and more than or equals to 108 is (1-0.9993)=0.0007.\n",
    "\n",
    "As it is less than 0.05 we will reject the Null hypothesis i.e. the diet is rich in raw cornstarch is effective."
   ]
  },
  {
   "cell_type": "code",
   "execution_count": 1,
   "metadata": {},
   "outputs": [
    {
     "data": {
      "text/plain": [
       "3.2"
      ]
     },
     "execution_count": 1,
     "metadata": {},
     "output_type": "execute_result"
    }
   ],
   "source": [
    "import math\n",
    "import scipy.stats as st\n",
    "# Population Mean \n",
    "m = 100\n",
    "\n",
    "# Gluclose Level Gl let be x\n",
    "x = 108\n",
    " \n",
    "# Standard Deviation S\n",
    "s = 15\n",
    "\n",
    "# Sample Patients\n",
    "y = 36\n",
    "\n",
    "# z = (x - mean)/(standard deviation/sqrt(36))\n",
    "z = (108 - 100)/(15/math.sqrt(36))\n",
    "z"
   ]
  },
  {
   "cell_type": "code",
   "execution_count": 2,
   "metadata": {},
   "outputs": [
    {
     "data": {
      "text/plain": [
       "0.9993128620620841"
      ]
     },
     "execution_count": 2,
     "metadata": {},
     "output_type": "execute_result"
    }
   ],
   "source": [
    "st.norm.cdf(z)"
   ]
  },
  {
   "cell_type": "markdown",
   "metadata": {},
   "source": [
    "#### Probability of having value less than 108 is 0.9993 and more than or equals to 108 is (1-0.9993)=0.0007. \n",
    "#### It is less than 0.05 so we will reject the Null hypothesis i.e. The diet is rich in raw cornstarch is effective.\n",
    "                                        _________________________________________________"
   ]
  },
  {
   "cell_type": "markdown",
   "metadata": {},
   "source": [
    "#### 2. In one state, 52% of the voters are Republicans, and 48% are Democrats. In a second state, 47% of the voters are Republicans, and 53% are Democrats. Suppose a simple random sample of 100 voters are surveyed from each state. What is the probability that the survey will show a greater percentage of Republican voters in the second state than in the first state? "
   ]
  },
  {
   "cell_type": "markdown",
   "metadata": {},
   "source": [
    "Let P1 = the proportion of Republican voters in the first state, P2 = the proportion of Republican voters in the second state,\n",
    "p1 = the proportion of Republican voters in the sample from the first state, p2 = the proportion of Republican voters in the sample from the second state.\n",
    "\n",
    "The number of voters sampled from the first state (n1) = 100, and the number of voters sampled from the second state (n2) = 100.\n",
    "n1P1 = 100 0.52 = 52, n1(1 - P1) = 100 0.48 = 48,\n",
    "\n",
    "n2P2 = 100 0.47 = 47, and n2(1 - P2) = 100 0.53 = 53\n",
    "\n",
    "\n",
    "The mean of the difference in sample proportions: E(p1 - p2) = P1 - P2 = 0.52 - 0.47 = 0.05.\n",
    "\n",
    "The standard deviation of the difference:\n",
    "\n",
    "σd = sqrt{ [ P1(1 - P1) / n1 ] + [ P2(1 - P2) / n2 ] }\n",
    "\n",
    "σd = sqrt{ [ (0.52)(0.48) / 100 ] + [ (0.47)(0.53) / 100 ] }\n",
    "\n",
    "σd = sqrt (0.002496 + 0.002491) = sqrt(0.004987) = 0.0706\n",
    "\n",
    "This problem requires us to find the probability that p1 is less than p2. This is equivalent to finding the probability that p1 - p2 is less than zero. To find this probability, we need to transform the random variable (p1 - p2) into a z-score.\n",
    "\n",
    "That transformation appears below.\n",
    "\n",
    "zp1 - p2 = (x - μp1 - p2) / σd = = (0 - 0.05)/0.0706 = -0.7082\n",
    "\n",
    "Using Normal Distribution Calculator, we find\n",
    "\n",
    "P(z <=0.7082) = 0.24\n",
    "\n",
    "the probability of a z-score being -0.7082 or less is 0.24\n",
    "\n",
    "Therefore, the probability that the survey will show a greater percentage of Republican voters in the second state than in the first state is 0.24."
   ]
  },
  {
   "cell_type": "code",
   "execution_count": 3,
   "metadata": {},
   "outputs": [
    {
     "data": {
      "text/plain": [
       "52.0"
      ]
     },
     "execution_count": 3,
     "metadata": {},
     "output_type": "execute_result"
    }
   ],
   "source": [
    "# For State 1 Republican Voters 52%\n",
    "P1 = 0.52\n",
    "\n",
    "# For State 2 Republican Voters 48%\n",
    "P2 = 0.47\n",
    "\n",
    "# The number of voters sampled from the first state (n1) = 100, \n",
    "# The number of voters sampled from the second state (n2) = 100.\n",
    "\n",
    "n1 = 100\n",
    "n2 = 100\n",
    "\n",
    "n1P1 = n1 * P1\n",
    "n1P1"
   ]
  },
  {
   "cell_type": "code",
   "execution_count": 4,
   "metadata": {},
   "outputs": [
    {
     "data": {
      "text/plain": [
       "48.0"
      ]
     },
     "execution_count": 4,
     "metadata": {},
     "output_type": "execute_result"
    }
   ],
   "source": [
    "# n1negP1 = n1(1 - P1)\n",
    "n1negP1 = n1 * (1 - P1)\n",
    "n1negP1"
   ]
  },
  {
   "cell_type": "code",
   "execution_count": 5,
   "metadata": {},
   "outputs": [
    {
     "data": {
      "text/plain": [
       "47.0"
      ]
     },
     "execution_count": 5,
     "metadata": {},
     "output_type": "execute_result"
    }
   ],
   "source": [
    "n2P2 = n2 * P2 \n",
    "n2P2"
   ]
  },
  {
   "cell_type": "code",
   "execution_count": 6,
   "metadata": {},
   "outputs": [
    {
     "data": {
      "text/plain": [
       "53.0"
      ]
     },
     "execution_count": 6,
     "metadata": {},
     "output_type": "execute_result"
    }
   ],
   "source": [
    "#n2negP2 = n2(1 - P2)\n",
    "n2negP2 = n2 * (1 - P2)\n",
    "n2negP2"
   ]
  },
  {
   "cell_type": "code",
   "execution_count": 7,
   "metadata": {},
   "outputs": [
    {
     "data": {
      "text/plain": [
       "0.050000000000000044"
      ]
     },
     "execution_count": 7,
     "metadata": {},
     "output_type": "execute_result"
    }
   ],
   "source": [
    "# Find the mean of the difference in sample proportions: E(p1 - p2) => Ep1p2 = P1 - P2 = 0.52 - 0.47 = 0.05. \n",
    "Ep1p2 = P1 - P2\n",
    "Ep1p2"
   ]
  },
  {
   "cell_type": "code",
   "execution_count": 9,
   "metadata": {},
   "outputs": [
    {
     "data": {
      "text/plain": [
       "0.004987"
      ]
     },
     "execution_count": 9,
     "metadata": {},
     "output_type": "execute_result"
    }
   ],
   "source": [
    "stdValues = (P1 * (1 - P1) / n1) + ( P2 * (1 - P2) / n2 )\n",
    "stdValues"
   ]
  },
  {
   "cell_type": "code",
   "execution_count": 10,
   "metadata": {},
   "outputs": [
    {
     "data": {
      "text/plain": [
       "0.07061869440877536"
      ]
     },
     "execution_count": 10,
     "metadata": {},
     "output_type": "execute_result"
    }
   ],
   "source": [
    "# Standard Deviation σd = stdDeviation\n",
    "stdDeviation = math.sqrt(stdValues)\n",
    "stdDeviation"
   ]
  },
  {
   "cell_type": "code",
   "execution_count": 11,
   "metadata": {},
   "outputs": [
    {
     "data": {
      "text/plain": [
       "-0.7080278164104213"
      ]
     },
     "execution_count": 11,
     "metadata": {},
     "output_type": "execute_result"
    }
   ],
   "source": [
    "# Transformation appears below.\n",
    "x = 0\n",
    "\n",
    "# zp = zp1 - p2 = (x - μp1 - p2) / σd = = (0 - 0.05)/0.0706 = -0.7082\n",
    "zp = (x - Ep1p2) / stdDeviation\n",
    "zp"
   ]
  },
  {
   "cell_type": "code",
   "execution_count": 12,
   "metadata": {},
   "outputs": [
    {
     "data": {
      "text/plain": [
       "0.23946399182220013"
      ]
     },
     "execution_count": 12,
     "metadata": {},
     "output_type": "execute_result"
    }
   ],
   "source": [
    "# Using Normal Distribution Calculator, we find P(z <=0.7082) = 0.24 the probability of a z-score being -0.7082 or less is 0.24\n",
    "\n",
    "st.norm.cdf(zp)"
   ]
  },
  {
   "cell_type": "markdown",
   "metadata": {},
   "source": [
    "##### The probability that the survey will show a greater percentage of Republican voters in the second state than in the first state is 0.24. \n",
    "                                _______________________________________________"
   ]
  },
  {
   "cell_type": "markdown",
   "metadata": {},
   "source": [
    "#### 3.You take the SAT and score 1100. The mean score for the SAT is 1026 and the standard deviation is 209. How well did you score on the test compared to the average test taker?"
   ]
  },
  {
   "cell_type": "code",
   "execution_count": 13,
   "metadata": {},
   "outputs": [
    {
     "data": {
      "text/plain": [
       "0.35406698564593303"
      ]
     },
     "execution_count": 13,
     "metadata": {},
     "output_type": "execute_result"
    }
   ],
   "source": [
    "# SAT Total Score x\n",
    "x = 1100\n",
    "\n",
    "# Mean score μ let we do it as m\n",
    "m = 1026\n",
    "\n",
    "# Standard Deviation σ and let we do it as s\n",
    "s = 209\n",
    "\n",
    "# z = (x - μ) / σ\n",
    "\n",
    "z = (x - m) / s\n",
    "z"
   ]
  },
  {
   "cell_type": "code",
   "execution_count": 14,
   "metadata": {},
   "outputs": [
    {
     "data": {
      "text/plain": [
       "0.6383556584353189"
      ]
     },
     "execution_count": 14,
     "metadata": {},
     "output_type": "execute_result"
    }
   ],
   "source": [
    "st.norm.cdf(z)"
   ]
  },
  {
   "cell_type": "markdown",
   "metadata": {},
   "source": [
    "63.8%"
   ]
  },
  {
   "cell_type": "code",
   "execution_count": null,
   "metadata": {},
   "outputs": [],
   "source": []
  }
 ],
 "metadata": {
  "kernelspec": {
   "display_name": "Python 3",
   "language": "python",
   "name": "python3"
  },
  "language_info": {
   "codemirror_mode": {
    "name": "ipython",
    "version": 3
   },
   "file_extension": ".py",
   "mimetype": "text/x-python",
   "name": "python",
   "nbconvert_exporter": "python",
   "pygments_lexer": "ipython3",
   "version": "3.6.4"
  }
 },
 "nbformat": 4,
 "nbformat_minor": 2
}
